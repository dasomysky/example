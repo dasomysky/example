{
 "cells": [
  {
   "cell_type": "code",
   "execution_count": 6,
   "id": "652224d5-7906-41a7-b800-70120eddce02",
   "metadata": {
    "execution": {
     "iopub.execute_input": "2023-12-13T14:39:23.788632Z",
     "iopub.status.busy": "2023-12-13T14:39:23.787792Z",
     "iopub.status.idle": "2023-12-13T14:39:23.825637Z",
     "shell.execute_reply": "2023-12-13T14:39:23.823466Z",
     "shell.execute_reply.started": "2023-12-13T14:39:23.788562Z"
    },
    "tags": []
   },
   "outputs": [
    {
     "name": "stdout",
     "output_type": "stream",
     "text": [
      "File 00899.json content is not a dictionary. Skipping...\n",
      "File 00919.json content is not a dictionary. Skipping...\n",
      "File 00928.json content is not a dictionary. Skipping...\n",
      "File 00932.json content is not a dictionary. Skipping...\n",
      "File 00933.json content is not a dictionary. Skipping...\n",
      "File 00934.json content is not a dictionary. Skipping...\n",
      "File 00935.json content is not a dictionary. Skipping...\n",
      "File 00937.json content is not a dictionary. Skipping...\n",
      "File 00946.json content is not a dictionary. Skipping...\n",
      "File 00959.json content is not a dictionary. Skipping...\n",
      "File 00960.json content is not a dictionary. Skipping...\n",
      "File 00961.json content is not a dictionary. Skipping...\n",
      "File 00962.json content is not a dictionary. Skipping...\n"
     ]
    }
   ],
   "source": [
    "import json\n",
    "import os\n",
    "\n",
    "def merge_json_files(start_index, end_index, output_file):\n",
    "    merged_data = []\n",
    "    for i in range(start_index, end_index + 1):\n",
    "        file_name = f\"{str(i).zfill(5)}.json\"  # 파일명 생성 (예: 00000.json부터 00099.json까지)\n",
    "        if not os.path.exists(file_name) or not file_name.endswith('.json'):\n",
    "            continue  # 파일이 존재하지 않거나 .json 파일이 아닌 경우 건너뜁니다.\n",
    "\n",
    "        try:\n",
    "            with open(file_name, 'r') as file:\n",
    "                data = file.read()\n",
    "                try:\n",
    "                    json_data = json.loads(data)\n",
    "                    if isinstance(json_data, dict):  # dict 타입인 경우에만 병합합니다.\n",
    "                        merged_data.append(json_data)\n",
    "                    else:\n",
    "                        print(f\"File {file_name} content is not a dictionary. Skipping...\")\n",
    "                except json.JSONDecodeError:\n",
    "                    print(f\"File {file_name} does not contain valid JSON format. Skipping...\")\n",
    "        except FileNotFoundError:\n",
    "            print(f\"File {file_name} not found. Skipping...\")\n",
    "\n",
    "    # 파일로 저장\n",
    "    with open(output_file, 'w') as outfile:\n",
    "        json.dump(merged_data, outfile, indent=4, ensure_ascii=False)  # indent=4는 가독성을 위한 들여쓰기\n",
    "\n",
    "    return merged_data\n",
    "\n",
    "# 파일명의 시작과 끝 인덱스\n",
    "start_index = 899  # 시작 인덱스 (예: 00000)\n",
    "end_index = 999   # 끝 인덱스 (예: 00099)\n",
    "\n",
    "output_file = 'merged_data.json'  # 저장할 파일명\n",
    "\n",
    "merged_json_data = merge_json_files(start_index, end_index, output_file)"
   ]
  },
  {
   "cell_type": "code",
   "execution_count": null,
   "id": "f946e86d-a971-4657-8fc6-af6b2fc1b619",
   "metadata": {},
   "outputs": [],
   "source": []
  }
 ],
 "metadata": {
  "kernelspec": {
   "display_name": "Python 3 (ipykernel)",
   "language": "python",
   "name": "python3"
  },
  "language_info": {
   "codemirror_mode": {
    "name": "ipython",
    "version": 3
   },
   "file_extension": ".py",
   "mimetype": "text/x-python",
   "name": "python",
   "nbconvert_exporter": "python",
   "pygments_lexer": "ipython3",
   "version": "3.10.12"
  }
 },
 "nbformat": 4,
 "nbformat_minor": 5
}
